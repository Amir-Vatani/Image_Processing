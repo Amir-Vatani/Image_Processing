{
 "cells": [
  {
   "cell_type": "code",
   "execution_count": 19,
   "id": "f78d0dc6-8bcc-4430-b41a-c3bed99dafbc",
   "metadata": {},
   "outputs": [],
   "source": [
    "import random \n",
    "import numpy as np\n",
    "import cv2 as cv\n",
    "import matplotlib.pyplot as plt\n",
    "import imageio\n",
    "import os"
   ]
  },
  {
   "cell_type": "code",
   "execution_count": 29,
   "id": "af89df27-edf8-48fa-acb4-5646a3faad57",
   "metadata": {},
   "outputs": [],
   "source": [
    "row , col , v = image.shape\n",
    "snow_x = []\n",
    "snow_y = []\n",
    "snow_radius = []\n",
    "\n",
    "for i in range(0, 1000):\n",
    "    x = random.randint(-700, row)\n",
    "    snow_x.append(x)\n",
    "    y = random.randint(0, col)\n",
    "    snow_y.append(y)\n",
    "    radius = random.randint(2, 3)\n",
    "    snow_radius.append(radius)"
   ]
  },
  {
   "cell_type": "code",
   "execution_count": 35,
   "id": "2144891e-c1cb-42b0-8da5-847ebb108159",
   "metadata": {},
   "outputs": [],
   "source": [
    "count = 1\n",
    "images = []\n",
    "for i in range(0, 80):\n",
    "    image = cv.imread('img/snow town.jpg') \n",
    "    for j in range(0, 1000):\n",
    "        cv.circle(image, (snow_y[j], snow_x[j]+count), snow_radius[j], (255, 255, 255), -1)\n",
    "    count += 5\n",
    "    cv.imwrite('output/img.jpg',image)\n",
    "    images.append(imageio.imread('output/img.jpg'))"
   ]
  },
  {
   "cell_type": "code",
   "execution_count": 37,
   "id": "155f7d37-ae4e-4fb4-803b-5f34b7043ffb",
   "metadata": {},
   "outputs": [],
   "source": [
    "imageio.mimsave('output/snow town.gif',images)"
   ]
  }
 ],
 "metadata": {
  "kernelspec": {
   "display_name": "Python 3 (ipykernel)",
   "language": "python",
   "name": "python3"
  },
  "language_info": {
   "codemirror_mode": {
    "name": "ipython",
    "version": 3
   },
   "file_extension": ".py",
   "mimetype": "text/x-python",
   "name": "python",
   "nbconvert_exporter": "python",
   "pygments_lexer": "ipython3",
   "version": "3.10.2"
  }
 },
 "nbformat": 4,
 "nbformat_minor": 5
}
