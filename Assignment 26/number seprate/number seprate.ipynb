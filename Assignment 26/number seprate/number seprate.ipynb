{
 "cells": [
  {
   "cell_type": "code",
   "execution_count": 6,
   "id": "f0a6932e-71df-4283-b522-33ad90aa4a78",
   "metadata": {},
   "outputs": [],
   "source": [
    "import numpy as np\n",
    "import cv2 as cv\n",
    "import matplotlib.pyplot as plt"
   ]
  },
  {
   "cell_type": "code",
   "execution_count": 7,
   "id": "f63d3f7f-817d-4dfd-bf8e-71000ddde542",
   "metadata": {},
   "outputs": [],
   "source": [
    "image = cv.imread('img/mnist.png')\n",
    "image = cv.cvtColor(image,cv.COLOR_BGR2GRAY)\n",
    "\n",
    "width, height = image.shape\n",
    "wcell = width // 50\n",
    "hcell = height // 100"
   ]
  },
  {
   "cell_type": "code",
   "execution_count": 9,
   "id": "b64f3cec-ae05-4b6f-90b5-3c52d76ea362",
   "metadata": {},
   "outputs": [],
   "source": [
    "count = 0\n",
    "for i in range(0, width, wcell):\n",
    "    for j in range(0, height, hcell):\n",
    "            cell = image[i:i+wcell, j:j+hcell]\n",
    "            cv.imwrite(f\"output/cell{counter}.jpg\", cell)\n",
    "            count += 1"
   ]
  }
 ],
 "metadata": {
  "kernelspec": {
   "display_name": "Python 3 (ipykernel)",
   "language": "python",
   "name": "python3"
  },
  "language_info": {
   "codemirror_mode": {
    "name": "ipython",
    "version": 3
   },
   "file_extension": ".py",
   "mimetype": "text/x-python",
   "name": "python",
   "nbconvert_exporter": "python",
   "pygments_lexer": "ipython3",
   "version": "3.10.2"
  }
 },
 "nbformat": 4,
 "nbformat_minor": 5
}
